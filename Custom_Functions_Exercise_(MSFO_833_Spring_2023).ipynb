{
  "nbformat": 4,
  "nbformat_minor": 0,
  "metadata": {
    "colab": {
      "provenance": [],
      "include_colab_link": true
    },
    "kernelspec": {
      "name": "python3",
      "display_name": "Python 3"
    }
  },
  "cells": [
    {
      "cell_type": "markdown",
      "metadata": {
        "id": "view-in-github",
        "colab_type": "text"
      },
      "source": [
        "<a href=\"https://colab.research.google.com/github/jrl309/first_repo/blob/main/Custom_Functions_Exercise_(MSFO_833_Spring_2023).ipynb\" target=\"_parent\"><img src=\"https://colab.research.google.com/assets/colab-badge.svg\" alt=\"Open In Colab\"/></a>"
      ]
    },
    {
      "cell_type": "markdown",
      "metadata": {
        "id": "S2WNuBjne_qG"
      },
      "source": [
        "\n",
        "# Instructions\n",
        "\n",
        "\n"
      ]
    },
    {
      "cell_type": "markdown",
      "metadata": {
        "id": "9VcdzHLiOrCt"
      },
      "source": [
        "\n",
        "\n",
        "\n",
        "\n",
        "\n",
        "\n",
        "1. **Make a copy of this notebook** so you can edit and save your own version of it. Do the work in your copy of the notebook. \n",
        "2. **Update the title of your notebook** to include your name and/or net id.\n",
        "\n",
        "3. **Write Python code** in the \"Solution\" section to meet the requirements set forth in the \"Requirements\" section. \n",
        "\n",
        "\n"
      ]
    },
    {
      "cell_type": "markdown",
      "metadata": {
        "id": "m4OgF-WX0Fxo"
      },
      "source": [
        "## References\n",
        "\n",
        "\n"
      ]
    },
    {
      "cell_type": "markdown",
      "metadata": {
        "id": "aedRcX8SYIqi"
      },
      "source": [
        "\n",
        "These official Python docs should help provide more context:\n",
        "\n",
        "  + https://docs.python.org/3/tutorial/controlflow.html#defining-functions\n",
        "  + https://docs.python.org/3/tutorial/controlflow.html#default-argument-values\n",
        "  + https://docs.python.org/3/tutorial/controlflow.html#keyword-arguments\n",
        "  + https://www.w3schools.com/python/python_functions.asp\n",
        "\n",
        "Optionally see also:\n",
        "\n",
        "  + https://github.com/prof-rossetti/intro-to-python/blob/main/notes/python/functions.md\n",
        "  + https://github.com/prof-rossetti/intro-to-python/blob/main/notes/python/docstrings.md"
      ]
    },
    {
      "cell_type": "markdown",
      "source": [
        "## Examples"
      ],
      "metadata": {
        "id": "1pRapJwfNN7h"
      }
    },
    {
      "cell_type": "markdown",
      "metadata": {
        "id": "YHt4V6UxY0NF"
      },
      "source": [
        "Example function definitions and example function invocations:"
      ]
    },
    {
      "cell_type": "code",
      "metadata": {
        "id": "OOEGfT5LYLn6"
      },
      "source": [
        "# FUNCTION DEFINITIONS\n",
        "#\n",
        "# the following functions do the same thing but are defined in different ways\n",
        "# the first one is as simple as possible\n",
        "# the second uses a default parameter value\n",
        "# the third implements a docstring\n",
        "# the fourth implements type hints\n",
        "\n",
        "def enlarge(n):\n",
        "    return n * 100\n",
        "\n",
        "\n",
        "def enlarge_with_default(n=3):\n",
        "    return n * 100\n",
        "\n",
        "\n",
        "def enlarge_with_docs(n):\n",
        "    \"\"\"\n",
        "        Enlarges a given number, returns the number multiplied by 100.\n",
        "\n",
        "        Params: \n",
        "            n (numeric i.e. float or int) : a number like 9 or 9.0\n",
        "\n",
        "        Example: \n",
        "            enlarge(9)\n",
        "\n",
        "        Returns: (float) like 900.0\n",
        "    \"\"\"\n",
        "    return n * 100.0\n",
        "\n",
        "\n",
        "def enlarge_with_docs_and_types(n:float) -> float:\n",
        "    \"\"\"\n",
        "        Enlarges a given number, returns the number multiplied by 100.\n",
        "\n",
        "        Params: \n",
        "            n (numeric i.e. float or int) : a number like 9 or 9.0\n",
        "\n",
        "        Example: \n",
        "            enlarge(9)\n",
        "\n",
        "        Returns: (float) like 900.0\n",
        "    \"\"\"\n",
        "    return n * 100.0\n",
        "\n"
      ],
      "execution_count": null,
      "outputs": []
    },
    {
      "cell_type": "code",
      "metadata": {
        "colab": {
          "base_uri": "https://localhost:8080/"
        },
        "id": "nScl_u0QZDIl",
        "outputId": "cc41bd38-2668-425c-9f9d-72dba0044bef"
      },
      "source": [
        "# FUNCTION INVOCATIONS\n",
        "\n",
        "print(enlarge(9))\n",
        "print(enlarge(3))\n",
        "\n",
        "x = 10\n",
        "print(enlarge(x))\n",
        "\n",
        "\n",
        "assert enlarge(9) == 900"
      ],
      "execution_count": null,
      "outputs": [
        {
          "output_type": "stream",
          "name": "stdout",
          "text": [
            "900\n",
            "300\n",
            "1000\n"
          ]
        }
      ]
    },
    {
      "cell_type": "code",
      "source": [
        "# enlarge() #> will throw error\n",
        "enlarge_with_default()\n",
        "\n",
        "assert enlarge_with_default() == 300\n",
        "assert enlarge_with_docs(9) == 900"
      ],
      "metadata": {
        "id": "gLNemVwOKEyz"
      },
      "execution_count": null,
      "outputs": []
    },
    {
      "cell_type": "code",
      "source": [
        "print(enlarge_with_docs(9))\n",
        "print(enlarge_with_docs(3))\n",
        "\n",
        "x = 10\n",
        "print(enlarge_with_docs(x))\n",
        "\n",
        "assert enlarge_with_docs(9) == 900"
      ],
      "metadata": {
        "colab": {
          "base_uri": "https://localhost:8080/"
        },
        "id": "ombBF-3kH0Ml",
        "outputId": "951f6add-be6b-48b4-bf68-386faa34e811"
      },
      "execution_count": null,
      "outputs": [
        {
          "output_type": "stream",
          "name": "stdout",
          "text": [
            "900.0\n",
            "300.0\n",
            "1000.0\n"
          ]
        }
      ]
    },
    {
      "cell_type": "code",
      "source": [
        "print(enlarge_with_docs_and_types(9))\n",
        "print(enlarge_with_docs_and_types(3))\n",
        "\n",
        "x = 10\n",
        "print(enlarge_with_docs_and_types(x))\n",
        "\n",
        "assert enlarge_with_docs_and_types(9) == 900\n",
        "assert enlarge_with_docs_and_types(9.5) == 950"
      ],
      "metadata": {
        "colab": {
          "base_uri": "https://localhost:8080/"
        },
        "id": "DxNhPJH9Iizv",
        "outputId": "208a85a3-ccb4-422c-d7e3-cca56d7c60f5"
      },
      "execution_count": null,
      "outputs": [
        {
          "output_type": "stream",
          "name": "stdout",
          "text": [
            "900.0\n",
            "300.0\n",
            "1000.0\n"
          ]
        }
      ]
    },
    {
      "cell_type": "markdown",
      "source": [
        "# Requirements"
      ],
      "metadata": {
        "id": "8lJzgEqcNW9m"
      }
    },
    {
      "cell_type": "markdown",
      "metadata": {
        "id": "Jjgzk-DvfCty"
      },
      "source": [
        "\n",
        "## Basic Requirements\n",
        "\n",
        "For each of the three challenges below, write a custom function to address the requirements. \n",
        "\n",
        "After writing a function in (and running) the first code cell, you should be able to then run the cell(s) immediately below which use some provided code to use or \"invoke\" the function. If you have defined the functions properly, the invocation cells should just work as-is.\n",
        "\n",
        "\n"
      ]
    },
    {
      "cell_type": "markdown",
      "source": [
        "## Further Exploration\n",
        "\n",
        "Ideally also add a [\"docstring\"](https://github.com/prof-rossetti/intro-to-python/blob/master/notes/python/docstrings.md) to each function, to provide more information about the parameters it accepts, and the job it is expected to perform."
      ],
      "metadata": {
        "id": "iKdcpFfgNZtQ"
      }
    },
    {
      "cell_type": "markdown",
      "metadata": {
        "id": "mdOQuAFkfHTd"
      },
      "source": [
        "# Challenges"
      ]
    },
    {
      "cell_type": "markdown",
      "metadata": {
        "id": "zgeFDH0CR6cN"
      },
      "source": [
        "## 1) Motivation Function\n",
        "\n",
        "Define a custom function called `motivate()`, the responsibility of which is to print a motivational or inspirational textual message like \"Row harder, you can do it!\". The function doesn't need any parameter inputs or return values. It can display the same message every time."
      ]
    },
    {
      "cell_type": "code",
      "metadata": {
        "id": "ism3HbhJR6Hi"
      },
      "source": [
        "# FUNCTION DEFINITION\n",
        "\n",
        "# todo: your code here\n",
        "def motivate():\n",
        "   print(\"Keep Working Hard\")\n",
        "   print(\"That's it\")"
      ],
      "execution_count": 6,
      "outputs": []
    },
    {
      "cell_type": "code",
      "metadata": {
        "id": "XWW1iycMR44V",
        "outputId": "484b72cb-7e9e-4527-8665-7e5f5a5a834a",
        "colab": {
          "base_uri": "https://localhost:8080/"
        }
      },
      "source": [
        "# FUNCTION INVOCATIONS\n",
        "motivate()\n",
        "motivate()\n",
        "motivate()\n",
        "motivate()\n",
        "motivate()\n"
      ],
      "execution_count": 7,
      "outputs": [
        {
          "output_type": "stream",
          "name": "stdout",
          "text": [
            "Keep Working Hard\n",
            "That's it\n",
            "Keep Working Hard\n",
            "That's it\n",
            "Keep Working Hard\n",
            "That's it\n",
            "Keep Working Hard\n",
            "That's it\n",
            "Keep Working Hard\n",
            "That's it\n"
          ]
        }
      ]
    },
    {
      "cell_type": "markdown",
      "metadata": {
        "id": "ElJb0gWG0uRT"
      },
      "source": [
        "\n",
        "## 2) Temperature Conversion Function\n",
        "\n",
        "Define a custom function called `celsius_to_fahrenheit()`, the responsibility of which is to convert a Celsius temperature (e.g. `0`) to a Fahrenheit temperature (e.g. `32`). Inside the function's definition, use a mathematical formula to convert the temperature and return the resulting value.\n"
      ]
    },
    {
      "cell_type": "code",
      "metadata": {
        "id": "Tb5YtYEb0DEg",
        "outputId": "0bc9cc1b-529b-4894-fff6-8a457c46cf2f",
        "colab": {
          "base_uri": "https://localhost:8080/"
        }
      },
      "source": [
        "# FUNCTION DEFINITION\n",
        "\n",
        "# todo: your code here\n",
        "#def celsius_to_fahrenheit(celsius, fahrenheit):\n",
        "  #celsius = int(input(\"Enter a temperature in C\"))\n",
        "  #ahrenheit = 9.0/5.0 * celsius + 32\n",
        "  #return fahrenheit\n",
        "\n",
        "Celsius = int(input(\"Enter a temperature in Celsius: \"))\n",
        "\n",
        "Fahrenheit = 9.0/5.0 * Celsius + 32\n",
        "\n",
        "print(\"Temperature:\", Celsius, \"Celsius = \", Fahrenheit, \" F\")\n",
        "\n",
        " # function definition (once only)\n"
      ],
      "execution_count": 25,
      "outputs": [
        {
          "output_type": "stream",
          "name": "stdout",
          "text": [
            "Enter a temperature in Celsius: 7\n",
            "Temperature: 7 Celsius =  44.6  F\n"
          ]
        }
      ]
    },
    {
      "cell_type": "code",
      "metadata": {
        "id": "DQKdwjAKOibU",
        "outputId": "5109cc52-913f-46f1-a118-4a40a2ec4dd8",
        "colab": {
          "base_uri": "https://localhost:8080/",
          "height": 244
        }
      },
      "source": [
        "# FUNCTION INVOCATIONS (DO NOT MODIFY)\n",
        "\n",
        "print(celsius_to_fahrenheit(0))\n",
        "print(celsius_to_fahrenheit(10))\n",
        "print(celsius_to_fahrenheit(20))\n",
        "print(celsius_to_fahrenheit(30))\n",
        "print(celsius_to_fahrenheit(40))\n",
        "\n",
        "print(\"---------\")\n",
        "\n",
        "c = 50\n",
        "f = celsius_to_fahrenheit(c)\n",
        "print(\"THE CELSIUS TEMP IS:\", c, \"DEGREES\")\n",
        "print(\"THE FAHRENHEIT EQUIVALENT IS:\", f, \"DEGREES\")\n",
        "\n",
        "print(\"---------\")\n",
        "\n",
        "assert celsius_to_fahrenheit(0) == 32"
      ],
      "execution_count": 26,
      "outputs": [
        {
          "output_type": "error",
          "ename": "TypeError",
          "evalue": "ignored",
          "traceback": [
            "\u001b[0;31m---------------------------------------------------------------------------\u001b[0m",
            "\u001b[0;31mTypeError\u001b[0m                                 Traceback (most recent call last)",
            "\u001b[0;32m<ipython-input-26-635d98039fdc>\u001b[0m in \u001b[0;36m<module>\u001b[0;34m\u001b[0m\n\u001b[1;32m      1\u001b[0m \u001b[0;31m# FUNCTION INVOCATIONS (DO NOT MODIFY)\u001b[0m\u001b[0;34m\u001b[0m\u001b[0;34m\u001b[0m\u001b[0;34m\u001b[0m\u001b[0m\n\u001b[1;32m      2\u001b[0m \u001b[0;34m\u001b[0m\u001b[0m\n\u001b[0;32m----> 3\u001b[0;31m \u001b[0mprint\u001b[0m\u001b[0;34m(\u001b[0m\u001b[0mcelsius_to_fahrenheit\u001b[0m\u001b[0;34m(\u001b[0m\u001b[0;36m0\u001b[0m\u001b[0;34m)\u001b[0m\u001b[0;34m)\u001b[0m\u001b[0;34m\u001b[0m\u001b[0;34m\u001b[0m\u001b[0m\n\u001b[0m\u001b[1;32m      4\u001b[0m \u001b[0mprint\u001b[0m\u001b[0;34m(\u001b[0m\u001b[0mcelsius_to_fahrenheit\u001b[0m\u001b[0;34m(\u001b[0m\u001b[0;36m10\u001b[0m\u001b[0;34m)\u001b[0m\u001b[0;34m)\u001b[0m\u001b[0;34m\u001b[0m\u001b[0;34m\u001b[0m\u001b[0m\n\u001b[1;32m      5\u001b[0m \u001b[0mprint\u001b[0m\u001b[0;34m(\u001b[0m\u001b[0mcelsius_to_fahrenheit\u001b[0m\u001b[0;34m(\u001b[0m\u001b[0;36m20\u001b[0m\u001b[0;34m)\u001b[0m\u001b[0;34m)\u001b[0m\u001b[0;34m\u001b[0m\u001b[0;34m\u001b[0m\u001b[0m\n",
            "\u001b[0;31mTypeError\u001b[0m: celsius_to_fahrenheit() missing 1 required positional argument: 'fahrenheit'"
          ]
        }
      ]
    },
    {
      "cell_type": "markdown",
      "metadata": {
        "id": "Xjb98FD21VIj"
      },
      "source": [
        "\n",
        "## 3) Letter Grade Conversion Function\n",
        "\n",
        "Define a custom function called `number_to_letter_grade()`, the responsibility of which is to convert a numeric grade (e.g. `87.5`) to a corresponding letter grade (e.g. `B+`). Inside the function's definition, use your own custom algorithm to convert the grade and return the resulting value. Use your own grading scale, or the following scale:\n",
        "\n",
        "  + above 93.0 is \"A\"\n",
        "  + above 90.0 is \"A-\"\n",
        "  + above 87.0 is \"B+\"\n",
        "  + above 83.0 is \"B\"\n",
        "  + above 80.0 is \"B-\"\n",
        "  + etc.\n"
      ]
    },
    {
      "cell_type": "code",
      "metadata": {
        "id": "-PXqEqQMTDTJ",
        "outputId": "b2f6fa9e-b7c2-4b3f-8941-83ad36140f64",
        "colab": {
          "base_uri": "https://localhost:8080/"
        }
      },
      "source": [
        "# FUNCTION DEFINITION\n",
        "\n",
        "# todo: your code here\n",
        "#def number_to_letter_grade():\n",
        "grade = int(input(\"Enter number grade\"))\n",
        "if grade >= 93: print(\"A\")\n",
        "elif grade >= 90: print(\"A-\") \n",
        "elif grade >= 87: print(\"B\")\n",
        "elif grade >= 83: print (\"B\")\n",
        "elif grade >= 80: print(\"B-\")"
      ],
      "execution_count": 33,
      "outputs": [
        {
          "output_type": "stream",
          "name": "stdout",
          "text": [
            "Enter number grade89\n",
            "B\n"
          ]
        }
      ]
    },
    {
      "cell_type": "code",
      "metadata": {
        "id": "7VNEWlSBS9I0",
        "outputId": "afe9ac5d-527b-422e-922d-331f8c337363",
        "colab": {
          "base_uri": "https://localhost:8080/",
          "height": 244
        }
      },
      "source": [
        "\n",
        "# FUNCTION INVOCATIONS (DO NOT MODIFY)\n",
        "\n",
        "print(number_to_letter_grade(100))\n",
        "print(number_to_letter_grade(95))\n",
        "print(number_to_letter_grade(85))\n",
        "print(number_to_letter_grade(75))\n",
        "print(number_to_letter_grade(50))\n",
        "\n",
        "print(\"------------\")\n",
        "\n",
        "score = 87.5\n",
        "print(\"THE NUMERIC SCORE IS:\", score)\n",
        "grade = number_to_letter_grade(score)\n",
        "print(\"THE LETTER-GRADE EQUIVALENT IS:\", grade)\n",
        "\n",
        "print(\"------------\")\n",
        "\n",
        "assert number_to_letter_grade(87.5) == \"B+\""
      ],
      "execution_count": 29,
      "outputs": [
        {
          "output_type": "error",
          "ename": "TypeError",
          "evalue": "ignored",
          "traceback": [
            "\u001b[0;31m---------------------------------------------------------------------------\u001b[0m",
            "\u001b[0;31mTypeError\u001b[0m                                 Traceback (most recent call last)",
            "\u001b[0;32m<ipython-input-29-335b37ebaa6b>\u001b[0m in \u001b[0;36m<module>\u001b[0;34m\u001b[0m\n\u001b[1;32m      1\u001b[0m \u001b[0;31m# FUNCTION INVOCATIONS (DO NOT MODIFY)\u001b[0m\u001b[0;34m\u001b[0m\u001b[0;34m\u001b[0m\u001b[0;34m\u001b[0m\u001b[0m\n\u001b[1;32m      2\u001b[0m \u001b[0;34m\u001b[0m\u001b[0m\n\u001b[0;32m----> 3\u001b[0;31m \u001b[0mprint\u001b[0m\u001b[0;34m(\u001b[0m\u001b[0mnumber_to_letter_grade\u001b[0m\u001b[0;34m(\u001b[0m\u001b[0;36m100\u001b[0m\u001b[0;34m)\u001b[0m\u001b[0;34m)\u001b[0m\u001b[0;34m\u001b[0m\u001b[0;34m\u001b[0m\u001b[0m\n\u001b[0m\u001b[1;32m      4\u001b[0m \u001b[0mprint\u001b[0m\u001b[0;34m(\u001b[0m\u001b[0mnumber_to_letter_grade\u001b[0m\u001b[0;34m(\u001b[0m\u001b[0;36m95\u001b[0m\u001b[0;34m)\u001b[0m\u001b[0;34m)\u001b[0m\u001b[0;34m\u001b[0m\u001b[0;34m\u001b[0m\u001b[0m\n\u001b[1;32m      5\u001b[0m \u001b[0mprint\u001b[0m\u001b[0;34m(\u001b[0m\u001b[0mnumber_to_letter_grade\u001b[0m\u001b[0;34m(\u001b[0m\u001b[0;36m85\u001b[0m\u001b[0;34m)\u001b[0m\u001b[0;34m)\u001b[0m\u001b[0;34m\u001b[0m\u001b[0;34m\u001b[0m\u001b[0m\n",
            "\u001b[0;31mTypeError\u001b[0m: number_to_letter_grade() takes 0 positional arguments but 1 was given"
          ]
        }
      ]
    },
    {
      "cell_type": "markdown",
      "source": [
        "\n",
        "## 4) Your Own Function\n",
        "\n",
        "Define your own function that does something interesting. The function should accept one or more parameters.\n",
        "\n",
        "Invoke your function a few times, using different parameter values.\n"
      ],
      "metadata": {
        "id": "vDbiG6fcG8XQ"
      }
    },
    {
      "cell_type": "code",
      "source": [
        "# FUNCTION DEFINITION\n",
        "\n",
        "# todo: your code here\n"
      ],
      "metadata": {
        "id": "jynyQvPiHN3O"
      },
      "execution_count": null,
      "outputs": []
    },
    {
      "cell_type": "code",
      "source": [
        "# FUNCTION INVOCATIONS\n",
        "\n",
        "# todo: your code here\n"
      ],
      "metadata": {
        "id": "ozaVBgUfHOKJ"
      },
      "execution_count": null,
      "outputs": []
    }
  ]
}